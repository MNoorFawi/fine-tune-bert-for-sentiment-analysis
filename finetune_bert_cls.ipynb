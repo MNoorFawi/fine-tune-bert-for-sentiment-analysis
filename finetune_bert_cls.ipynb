{
 "cells": [
  {
   "cell_type": "code",
   "execution_count": 1,
   "id": "173a4980-f18d-46b7-8945-1fae72c331ba",
   "metadata": {},
   "outputs": [
    {
     "name": "stdout",
     "output_type": "stream",
     "text": [
      "(50000, 2)\n"
     ]
    },
    {
     "data": {
      "text/html": [
       "<div>\n",
       "<style scoped>\n",
       "    .dataframe tbody tr th:only-of-type {\n",
       "        vertical-align: middle;\n",
       "    }\n",
       "\n",
       "    .dataframe tbody tr th {\n",
       "        vertical-align: top;\n",
       "    }\n",
       "\n",
       "    .dataframe thead th {\n",
       "        text-align: right;\n",
       "    }\n",
       "</style>\n",
       "<table border=\"1\" class=\"dataframe\">\n",
       "  <thead>\n",
       "    <tr style=\"text-align: right;\">\n",
       "      <th></th>\n",
       "      <th>review</th>\n",
       "      <th>sentiment</th>\n",
       "    </tr>\n",
       "  </thead>\n",
       "  <tbody>\n",
       "    <tr>\n",
       "      <th>0</th>\n",
       "      <td>One of the other reviewers has mentioned that ...</td>\n",
       "      <td>positive</td>\n",
       "    </tr>\n",
       "    <tr>\n",
       "      <th>1</th>\n",
       "      <td>A wonderful little production. &lt;br /&gt;&lt;br /&gt;The...</td>\n",
       "      <td>positive</td>\n",
       "    </tr>\n",
       "    <tr>\n",
       "      <th>2</th>\n",
       "      <td>I thought this was a wonderful way to spend ti...</td>\n",
       "      <td>positive</td>\n",
       "    </tr>\n",
       "    <tr>\n",
       "      <th>3</th>\n",
       "      <td>Basically there's a family where a little boy ...</td>\n",
       "      <td>negative</td>\n",
       "    </tr>\n",
       "    <tr>\n",
       "      <th>4</th>\n",
       "      <td>Petter Mattei's \"Love in the Time of Money\" is...</td>\n",
       "      <td>positive</td>\n",
       "    </tr>\n",
       "  </tbody>\n",
       "</table>\n",
       "</div>"
      ],
      "text/plain": [
       "                                              review sentiment\n",
       "0  One of the other reviewers has mentioned that ...  positive\n",
       "1  A wonderful little production. <br /><br />The...  positive\n",
       "2  I thought this was a wonderful way to spend ti...  positive\n",
       "3  Basically there's a family where a little boy ...  negative\n",
       "4  Petter Mattei's \"Love in the Time of Money\" is...  positive"
      ]
     },
     "execution_count": 1,
     "metadata": {},
     "output_type": "execute_result"
    }
   ],
   "source": [
    "import gc\n",
    "import re\n",
    "import pandas as pd\n",
    "import torch\n",
    "from transformers import AutoTokenizer, AutoModel, get_cosine_schedule_with_warmup\n",
    "from sklearn.model_selection import train_test_split\n",
    "\n",
    "\n",
    "reviews = pd.read_csv(\"IMDB Dataset.csv\")\n",
    "print(reviews.shape)\n",
    "reviews.head()"
   ]
  },
  {
   "cell_type": "code",
   "execution_count": 2,
   "id": "512df0a8-163b-4f68-9f9c-a3e43edc07e2",
   "metadata": {},
   "outputs": [
    {
     "data": {
      "text/plain": [
       "sentiment\n",
       "positive    25000\n",
       "negative    25000\n",
       "Name: count, dtype: int64"
      ]
     },
     "execution_count": 2,
     "metadata": {},
     "output_type": "execute_result"
    }
   ],
   "source": [
    "reviews[\"sentiment\"].value_counts()"
   ]
  },
  {
   "cell_type": "code",
   "execution_count": 3,
   "id": "1ee57a58-cc3b-4844-adf3-b4351b4f27c2",
   "metadata": {},
   "outputs": [],
   "source": [
    "reviews[\"label\"] = 1\n",
    "reviews.loc[reviews[\"sentiment\"] == \"negative\", \"label\"] = 0"
   ]
  },
  {
   "cell_type": "code",
   "execution_count": 4,
   "id": "58955224-a706-4fe0-b446-6b9453b5cd61",
   "metadata": {},
   "outputs": [
    {
     "name": "stdout",
     "output_type": "stream",
     "text": [
      "## before cleaning\n",
      "One of the other reviewers has mentioned that after watching just 1 Oz episode you'll be hooked. They are right, as this is exactly what happened with me.<br /><br />The first thing that struck me abo\n",
      "\n",
      "## after cleaning\n",
      "One of the other reviewers has mentioned that after watching just 1 Oz episode you'll be hooked. They are right, as this is exactly what happened with me.The first thing that struck me about Oz was it\n"
     ]
    }
   ],
   "source": [
    "def clean_review(review):\n",
    "    html_tag = re.compile('<.*?>')\n",
    "    cleaned_review = re.sub(html_tag, \"\", review).split()\n",
    "    return \" \".join(cleaned_review)\n",
    "\n",
    "print(\"## before cleaning\")\n",
    "text = reviews.review[0]\n",
    "print(text[:200])\n",
    "\n",
    "print(\"\\n## after cleaning\")\n",
    "cleaned_text = clean_review(text)\n",
    "print(cleaned_text[:200])\n",
    "\n",
    "## cleaning the review column\n",
    "reviews[\"cleaned_review\"] = reviews[\"review\"].apply(lambda x: clean_review(x))"
   ]
  },
  {
   "cell_type": "code",
   "execution_count": 5,
   "id": "544b8bfe-6239-40b8-a356-f960764fbd46",
   "metadata": {},
   "outputs": [],
   "source": [
    "X_train, X_test, y_train, y_test = train_test_split(reviews[\"cleaned_review\"], reviews[\"label\"], \n",
    "                                                    test_size = .98,\n",
    "                                                    random_state = 13)"
   ]
  },
  {
   "cell_type": "code",
   "execution_count": 6,
   "id": "d6464dc8-605e-4fbb-b5e3-9d274b5e4e4c",
   "metadata": {},
   "outputs": [
    {
     "data": {
      "text/plain": [
       "label\n",
       "1    534\n",
       "0    466\n",
       "Name: count, dtype: int64"
      ]
     },
     "execution_count": 6,
     "metadata": {},
     "output_type": "execute_result"
    }
   ],
   "source": [
    "y_train.value_counts()"
   ]
  },
  {
   "cell_type": "code",
   "execution_count": 7,
   "id": "dbb49013-e8fb-41c3-a05f-5d75936ffc01",
   "metadata": {},
   "outputs": [
    {
     "data": {
      "text/plain": [
       "label\n",
       "0    501\n",
       "1    499\n",
       "Name: count, dtype: int64"
      ]
     },
     "execution_count": 7,
     "metadata": {},
     "output_type": "execute_result"
    }
   ],
   "source": [
    "y_test[:1000].value_counts()"
   ]
  },
  {
   "cell_type": "code",
   "execution_count": 8,
   "id": "d9b8efc0-b574-4052-b825-771972b60c21",
   "metadata": {},
   "outputs": [],
   "source": [
    "BERT_MODEL = \"bert-base-uncased\"\n",
    "tokenizer = AutoTokenizer.from_pretrained(BERT_MODEL)"
   ]
  },
  {
   "cell_type": "code",
   "execution_count": 9,
   "id": "1c8acce1-f0d2-4988-9b75-40f0c762939a",
   "metadata": {},
   "outputs": [],
   "source": [
    "class BertSentimentClassifier(torch.nn.Module):\n",
    "    def __init__(self, model_name):\n",
    "        super(BertSentimentClassifier, self).__init__()\n",
    "        self.bert = AutoModel.from_pretrained(model_name)\n",
    "        self.cls_head = torch.nn.Linear(self.bert.config.hidden_size, 1)\n",
    "        self.loss_fn = torch.nn.BCELoss()\n",
    "\n",
    "    def forward(self, input_ids, attention_mask, token_type_ids, labels = None):\n",
    "        bert_output = self.bert(input_ids = input_ids,\n",
    "                                attention_mask = attention_mask,\n",
    "                                token_type_ids = token_type_ids)\n",
    "        logits = self.cls_head(bert_output.pooler_output)\n",
    "        probs = torch.nn.functional.sigmoid(logits).squeeze(-1)\n",
    "        loss = None\n",
    "        if labels is not None:\n",
    "            loss = self.loss_fn(probs, labels)\n",
    "        return loss, probs"
   ]
  },
  {
   "cell_type": "code",
   "execution_count": 10,
   "id": "8b5e099d-801a-4510-9da6-c2786869699f",
   "metadata": {},
   "outputs": [],
   "source": [
    "if torch.cuda.is_available():\n",
    "    device = \"cuda\"\n",
    "else:\n",
    "    device = \"cpu\"\n",
    "\n",
    "model = BertSentimentClassifier(BERT_MODEL).to(device)"
   ]
  },
  {
   "cell_type": "code",
   "execution_count": 11,
   "id": "ccc8960d-9000-42f9-9a6b-6a1d55c0c229",
   "metadata": {},
   "outputs": [],
   "source": [
    "optimizer = torch.optim.Adam(model.parameters(), lr = 5e-5)\n",
    "scheduler = get_cosine_schedule_with_warmup(\n",
    "                optimizer,\n",
    "                num_warmup_steps = 10,\n",
    "                num_training_steps = 100)"
   ]
  },
  {
   "cell_type": "code",
   "execution_count": 12,
   "id": "f3a9a2f0-14a0-422b-9850-112890b934c5",
   "metadata": {},
   "outputs": [
    {
     "name": "stdout",
     "output_type": "stream",
     "text": [
      "accuracy: 0.443\n"
     ]
    }
   ],
   "source": [
    "total_records = 0\n",
    "correct_records = 0\n",
    "batch_size = 5\n",
    "for i in range(0, len(X_test[:1000]), batch_size):\n",
    "    batch_data = tokenizer(X_test[i:i+batch_size].tolist(), return_tensors = \"pt\",\n",
    "                      padding = True, truncation = True).to(device)\n",
    "    batch_y = torch.FloatTensor(y_test[i:i+batch_size].tolist()).to(device)\n",
    "    _, logits = model(input_ids = batch_data.input_ids,\n",
    "                         attention_mask = batch_data.attention_mask,\n",
    "                         token_type_ids = batch_data.token_type_ids,\n",
    "                         labels = batch_y)\n",
    "    total_records += batch_size\n",
    "    correct_records += torch.sum((1 * logits >= 0.5) == batch_y).item()\n",
    "\n",
    "    torch.cuda.empty_cache()\n",
    "    _ = gc.collect()\n",
    "    \n",
    "accuracy = correct_records / total_records\n",
    "print(f\"accuracy: {accuracy}\")"
   ]
  },
  {
   "cell_type": "code",
   "execution_count": 13,
   "id": "7c204db9-ab50-4b65-8a0f-bbcb24241c40",
   "metadata": {},
   "outputs": [
    {
     "name": "stdout",
     "output_type": "stream",
     "text": [
      "epoch: 0\n",
      "train loss: 0.5525103211402893, accuracy: 0.695\n",
      "epoch: 1\n",
      "train loss: 0.23345758020877838, accuracy: 0.921\n",
      "epoch: 2\n",
      "train loss: 0.15327207744121552, accuracy: 0.957\n"
     ]
    }
   ],
   "source": [
    "epochs = 3\n",
    "losses = []\n",
    "batch_size = 20\n",
    "model.train()\n",
    "for epoch in range(epochs):\n",
    "    in_losses = []\n",
    "    print(f\"epoch: {epoch}\")\n",
    "    total_records = 0\n",
    "    correct_records = 0\n",
    "    for i in range(0, len(X_train), batch_size):\n",
    "        batch_data = tokenizer(X_train[i:i+batch_size].tolist(), return_tensors = \"pt\",\n",
    "                          padding = True, truncation = True).to(device)\n",
    "        batch_y = torch.FloatTensor(y_train[i:i+batch_size].tolist()).to(device)\n",
    "        optimizer.zero_grad()\n",
    "        loss, logits = model(input_ids = batch_data.input_ids,\n",
    "                             attention_mask = batch_data.attention_mask,\n",
    "                             token_type_ids = batch_data.token_type_ids,\n",
    "                             labels = batch_y)\n",
    "        loss.backward()\n",
    "        optimizer.step()\n",
    "        scheduler.step()\n",
    "        in_losses.append(loss)\n",
    "        total_records += batch_size\n",
    "        correct_records += torch.sum((1 * logits >= 0.5) == batch_y).item()\n",
    "\n",
    "        torch.cuda.empty_cache()\n",
    "        _ = gc.collect()\n",
    "        \n",
    "    epoch_loss = sum(in_losses) / len(in_losses)\n",
    "    losses.append(epoch_loss)\n",
    "    accuracy = correct_records / total_records\n",
    "    print(f\"train loss: {epoch_loss}, accuracy: {accuracy}\")"
   ]
  },
  {
   "cell_type": "code",
   "execution_count": 14,
   "id": "3012e08e-64fc-443a-88b4-a9a6b6c4d4c4",
   "metadata": {},
   "outputs": [
    {
     "name": "stdout",
     "output_type": "stream",
     "text": [
      "accuracy: 0.897\n"
     ]
    }
   ],
   "source": [
    "model.eval()\n",
    "total_records = 0\n",
    "correct_records = 0\n",
    "batch_size = 5\n",
    "for i in range(0, len(X_test[:1000]), batch_size):\n",
    "    batch_data = tokenizer(X_test[i:i+batch_size].tolist(), return_tensors = \"pt\",\n",
    "                      padding = True, truncation = True).to(device)\n",
    "    batch_y = torch.FloatTensor(y_test[i:i+batch_size].tolist()).to(device)\n",
    "    _, logits = model(input_ids = batch_data.input_ids,\n",
    "                         attention_mask = batch_data.attention_mask,\n",
    "                         token_type_ids = batch_data.token_type_ids,\n",
    "                         labels = batch_y)\n",
    "    total_records += batch_size\n",
    "    correct_records += torch.sum((1 * logits >= 0.5) == batch_y).item()\n",
    "\n",
    "    torch.cuda.empty_cache()\n",
    "    _ = gc.collect()\n",
    "    \n",
    "accuracy = correct_records / total_records\n",
    "print(f\"accuracy: {accuracy}\")"
   ]
  },
  {
   "cell_type": "code",
   "execution_count": null,
   "id": "7df49693-ecda-42ba-b7b8-6fca369cb468",
   "metadata": {},
   "outputs": [],
   "source": []
  }
 ],
 "metadata": {
  "kernelspec": {
   "display_name": "Python 3 (ipykernel)",
   "language": "python",
   "name": "python3"
  },
  "language_info": {
   "codemirror_mode": {
    "name": "ipython",
    "version": 3
   },
   "file_extension": ".py",
   "mimetype": "text/x-python",
   "name": "python",
   "nbconvert_exporter": "python",
   "pygments_lexer": "ipython3",
   "version": "3.10.12"
  }
 },
 "nbformat": 4,
 "nbformat_minor": 5
}
